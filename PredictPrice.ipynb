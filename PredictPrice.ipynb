{
 "cells": [
  {
   "cell_type": "markdown",
   "metadata": {},
   "source": [
    "## <center>Predictive modelling</center>"
   ]
  },
  {
   "cell_type": "markdown",
   "metadata": {},
   "source": [
    "### Content\n",
    "\n",
    " 1. Data description\n",
    " 2. Data Preprocessing\n",
    " 3. Data Modelling\n",
    " 4. Conclusion"
   ]
  },
  {
   "cell_type": "markdown",
   "metadata": {},
   "source": [
    "## 1. Data description"
   ]
  },
  {
   "cell_type": "markdown",
   "metadata": {},
   "source": [
    "The dataset taken from https://krisha.kz/ by parsing first 120 appartments (6 pages) for sale in Atyrau city. Below is data that scraped and used for analysis:\n",
    "+ \"Название\" - title of the appartment\n",
    "+ \"Цена\" - price of the appartment\n",
    "+ \"Город\" - city of the appartment\n",
    "+ \"Автор\" - author of advertisement of appartment\n",
    "+ \"Телефон\" - mobile phone of author of advertisement of appartment\n",
    "+ \"Тип дома\" - building method of the appartment\n",
    "+ \"Год постройки\" - building year of the appartment\n",
    "+ \"Количество комнат\" - number of rooms of appartment "
   ]
  },
  {
   "cell_type": "code",
   "execution_count": 1,
   "metadata": {},
   "outputs": [],
   "source": [
    "# import libarires\n",
    "import pandas as pd\n",
    "import numpy as np\n",
    "from numpy import isnan\n",
    "from numpy import nan\n",
    "from sklearn import preprocessing\n",
    "from sklearn.preprocessing import OneHotEncoder\n",
    "from sklearn.preprocessing import StandardScaler\n",
    "from sklearn import metrics\n",
    "from sklearn import linear_model\n",
    "from sklearn.model_selection import train_test_split"
   ]
  },
  {
   "cell_type": "code",
   "execution_count": 2,
   "metadata": {},
   "outputs": [
    {
     "data": {
      "text/html": [
       "<div>\n",
       "<style scoped>\n",
       "    .dataframe tbody tr th:only-of-type {\n",
       "        vertical-align: middle;\n",
       "    }\n",
       "\n",
       "    .dataframe tbody tr th {\n",
       "        vertical-align: top;\n",
       "    }\n",
       "\n",
       "    .dataframe thead th {\n",
       "        text-align: right;\n",
       "    }\n",
       "</style>\n",
       "<table border=\"1\" class=\"dataframe\">\n",
       "  <thead>\n",
       "    <tr style=\"text-align: right;\">\n",
       "      <th></th>\n",
       "      <th>Unnamed: 0</th>\n",
       "      <th>Название</th>\n",
       "      <th>Цена</th>\n",
       "      <th>Город</th>\n",
       "      <th>Автор</th>\n",
       "      <th>Телефон</th>\n",
       "      <th>Тип дома</th>\n",
       "      <th>Год постройки</th>\n",
       "      <th>Количество комнат</th>\n",
       "      <th>Площадь</th>\n",
       "    </tr>\n",
       "  </thead>\n",
       "  <tbody>\n",
       "    <tr>\n",
       "      <th>0</th>\n",
       "      <td>0</td>\n",
       "      <td>1-комнатная квартира, 43.46 м², Абылхаир хана ...</td>\n",
       "      <td>15646500</td>\n",
       "      <td>Атырау, Атырауская обл.</td>\n",
       "      <td>[]</td>\n",
       "      <td>[]</td>\n",
       "      <td>монолитный</td>\n",
       "      <td>2021</td>\n",
       "      <td>1</td>\n",
       "      <td>43</td>\n",
       "    </tr>\n",
       "    <tr>\n",
       "      <th>1</th>\n",
       "      <td>1</td>\n",
       "      <td>4-комнатная квартира, 156.2 м², 2-ая Береговая...</td>\n",
       "      <td>49984000</td>\n",
       "      <td>Атырау, Атырауская обл.</td>\n",
       "      <td>[]</td>\n",
       "      <td>[]</td>\n",
       "      <td>монолитный</td>\n",
       "      <td>2020</td>\n",
       "      <td>4</td>\n",
       "      <td>156</td>\n",
       "    </tr>\n",
       "    <tr>\n",
       "      <th>2</th>\n",
       "      <td>2</td>\n",
       "      <td>1-комнатная квартира, 56.9 м², Авангард 2 микр...</td>\n",
       "      <td>15932000</td>\n",
       "      <td>Атырау, Атырауская обл.</td>\n",
       "      <td>[]</td>\n",
       "      <td>[]</td>\n",
       "      <td>монолитный</td>\n",
       "      <td>2020</td>\n",
       "      <td>1</td>\n",
       "      <td>56</td>\n",
       "    </tr>\n",
       "    <tr>\n",
       "      <th>3</th>\n",
       "      <td>3</td>\n",
       "      <td>3-комнатная квартира, 113.9 м², 8/9 этаж, улиц...</td>\n",
       "      <td>38000000</td>\n",
       "      <td>Атырау, Атырауская обл.</td>\n",
       "      <td>Хозяин недвижимости</td>\n",
       "      <td>+7 701 588 5651</td>\n",
       "      <td>монолитный</td>\n",
       "      <td>2006</td>\n",
       "      <td>3</td>\n",
       "      <td>113</td>\n",
       "    </tr>\n",
       "    <tr>\n",
       "      <th>4</th>\n",
       "      <td>4</td>\n",
       "      <td>2-комнатная квартира, 82.6 м², 1/8 этаж, мкр Н...</td>\n",
       "      <td>27000000</td>\n",
       "      <td>Атырау, мкр Нурсая</td>\n",
       "      <td>Хозяин недвижимости</td>\n",
       "      <td>+7 702 311 5951</td>\n",
       "      <td>NaN</td>\n",
       "      <td>2014</td>\n",
       "      <td>2</td>\n",
       "      <td>82</td>\n",
       "    </tr>\n",
       "  </tbody>\n",
       "</table>\n",
       "</div>"
      ],
      "text/plain": [
       "   Unnamed: 0                                           Название      Цена  \\\n",
       "0           0  1-комнатная квартира, 43.46 м², Абылхаир хана ...  15646500   \n",
       "1           1  4-комнатная квартира, 156.2 м², 2-ая Береговая...  49984000   \n",
       "2           2  1-комнатная квартира, 56.9 м², Авангард 2 микр...  15932000   \n",
       "3           3  3-комнатная квартира, 113.9 м², 8/9 этаж, улиц...  38000000   \n",
       "4           4  2-комнатная квартира, 82.6 м², 1/8 этаж, мкр Н...  27000000   \n",
       "\n",
       "                     Город                Автор          Телефон    Тип дома  \\\n",
       "0  Атырау, Атырауская обл.                   []               []  монолитный   \n",
       "1  Атырау, Атырауская обл.                   []               []  монолитный   \n",
       "2  Атырау, Атырауская обл.                   []               []  монолитный   \n",
       "3  Атырау, Атырауская обл.  Хозяин недвижимости  +7 701 588 5651  монолитный   \n",
       "4       Атырау, мкр Нурсая  Хозяин недвижимости  +7 702 311 5951         NaN   \n",
       "\n",
       "   Год постройки  Количество комнат  Площадь  \n",
       "0           2021                  1       43  \n",
       "1           2020                  4      156  \n",
       "2           2020                  1       56  \n",
       "3           2006                  3      113  \n",
       "4           2014                  2       82  "
      ]
     },
     "execution_count": 2,
     "metadata": {},
     "output_type": "execute_result"
    }
   ],
   "source": [
    "# import dataset\n",
    "df = pd.read_excel('KrishaAtyrauApps.xlsx')\n",
    "\n",
    "df.head()"
   ]
  },
  {
   "cell_type": "code",
   "execution_count": 3,
   "metadata": {},
   "outputs": [
    {
     "data": {
      "text/plain": [
       "Unnamed: 0            int64\n",
       "Название             object\n",
       "Цена                  int64\n",
       "Город                object\n",
       "Автор                object\n",
       "Телефон              object\n",
       "Тип дома             object\n",
       "Год постройки         int64\n",
       "Количество комнат     int64\n",
       "Площадь               int64\n",
       "dtype: object"
      ]
     },
     "execution_count": 3,
     "metadata": {},
     "output_type": "execute_result"
    }
   ],
   "source": [
    "df.dtypes"
   ]
  },
  {
   "cell_type": "markdown",
   "metadata": {},
   "source": [
    "## 2. Data Preprocessing\n",
    "At this step, I have moreless ready dataset, however I need to do the following:\n",
    "+ Handling with missing value\n",
    "+ Encode categorical variables\n",
    "+ Data transformation: standardization"
   ]
  },
  {
   "cell_type": "code",
   "execution_count": 3,
   "metadata": {},
   "outputs": [],
   "source": [
    "# drop further unused columns\n",
    "df1 = df.drop(['Unnamed: 0','Название', 'Город', 'Автор', 'Телефон'], axis=1)"
   ]
  },
  {
   "cell_type": "markdown",
   "metadata": {},
   "source": [
    "### 2.1. Handling with missing value"
   ]
  },
  {
   "cell_type": "markdown",
   "metadata": {},
   "source": [
    "Below you can see the amount of missingness numerically"
   ]
  },
  {
   "cell_type": "code",
   "execution_count": 4,
   "metadata": {},
   "outputs": [
    {
     "name": "stdout",
     "output_type": "stream",
     "text": [
      "Цена                  0\n",
      "Тип дома             11\n",
      "Год постройки         0\n",
      "Количество комнат     0\n",
      "Площадь               0\n",
      "dtype: int64\n"
     ]
    }
   ],
   "source": [
    "# total missing values\n",
    "print(df1.isnull().sum())"
   ]
  },
  {
   "cell_type": "markdown",
   "metadata": {},
   "source": [
    "From previous HW we recognized that Listwise Deletion is the best option with handling missing values in this dataset. "
   ]
  },
  {
   "cell_type": "code",
   "execution_count": 5,
   "metadata": {},
   "outputs": [
    {
     "data": {
      "text/plain": [
       "Цена                 0\n",
       "Тип дома             0\n",
       "Год постройки        0\n",
       "Количество комнат    0\n",
       "Площадь              0\n",
       "dtype: int64"
      ]
     },
     "execution_count": 5,
     "metadata": {},
     "output_type": "execute_result"
    }
   ],
   "source": [
    "# Listwise Deletion or Complete Case\n",
    "df1.dropna(subset=[\"Тип дома\"], how='any', inplace=True)\n",
    "df1.isnull().sum()"
   ]
  },
  {
   "cell_type": "markdown",
   "metadata": {},
   "source": [
    "### 2.2 Encoding categorical variables: One-hot encoding\n",
    "\n",
    "One of the columns in the dataset gives building type for the appartments listed. Because 'Тип дома' column is a categorical variable with more than two categories, I need to use ordinal encoding to transform this column numerically. I am going to use sklearn OrdinalEncoder to do so."
   ]
  },
  {
   "cell_type": "code",
   "execution_count": 6,
   "metadata": {},
   "outputs": [
    {
     "data": {
      "text/html": [
       "<div>\n",
       "<style scoped>\n",
       "    .dataframe tbody tr th:only-of-type {\n",
       "        vertical-align: middle;\n",
       "    }\n",
       "\n",
       "    .dataframe tbody tr th {\n",
       "        vertical-align: top;\n",
       "    }\n",
       "\n",
       "    .dataframe thead th {\n",
       "        text-align: right;\n",
       "    }\n",
       "</style>\n",
       "<table border=\"1\" class=\"dataframe\">\n",
       "  <thead>\n",
       "    <tr style=\"text-align: right;\">\n",
       "      <th></th>\n",
       "      <th>Цена</th>\n",
       "      <th>Тип дома</th>\n",
       "      <th>Год постройки</th>\n",
       "      <th>Количество комнат</th>\n",
       "      <th>Площадь</th>\n",
       "    </tr>\n",
       "  </thead>\n",
       "  <tbody>\n",
       "    <tr>\n",
       "      <th>0</th>\n",
       "      <td>15646500</td>\n",
       "      <td>2.0</td>\n",
       "      <td>2021</td>\n",
       "      <td>1</td>\n",
       "      <td>43</td>\n",
       "    </tr>\n",
       "    <tr>\n",
       "      <th>1</th>\n",
       "      <td>49984000</td>\n",
       "      <td>2.0</td>\n",
       "      <td>2020</td>\n",
       "      <td>4</td>\n",
       "      <td>156</td>\n",
       "    </tr>\n",
       "    <tr>\n",
       "      <th>2</th>\n",
       "      <td>15932000</td>\n",
       "      <td>2.0</td>\n",
       "      <td>2020</td>\n",
       "      <td>1</td>\n",
       "      <td>56</td>\n",
       "    </tr>\n",
       "    <tr>\n",
       "      <th>3</th>\n",
       "      <td>38000000</td>\n",
       "      <td>2.0</td>\n",
       "      <td>2006</td>\n",
       "      <td>3</td>\n",
       "      <td>113</td>\n",
       "    </tr>\n",
       "    <tr>\n",
       "      <th>5</th>\n",
       "      <td>8000000</td>\n",
       "      <td>1.0</td>\n",
       "      <td>2021</td>\n",
       "      <td>1</td>\n",
       "      <td>53</td>\n",
       "    </tr>\n",
       "  </tbody>\n",
       "</table>\n",
       "</div>"
      ],
      "text/plain": [
       "       Цена  Тип дома  Год постройки  Количество комнат  Площадь\n",
       "0  15646500       2.0           2021                  1       43\n",
       "1  49984000       2.0           2020                  4      156\n",
       "2  15932000       2.0           2020                  1       56\n",
       "3  38000000       2.0           2006                  3      113\n",
       "5   8000000       1.0           2021                  1       53"
      ]
     },
     "execution_count": 6,
     "metadata": {},
     "output_type": "execute_result"
    }
   ],
   "source": [
    "# Ordinal encoding\n",
    "from sklearn.preprocessing import OrdinalEncoder\n",
    "\n",
    "# Create Ordinal Encoder\n",
    "apps_ord_enc = OrdinalEncoder()\n",
    "# Select non-null values in ambience\n",
    "apps = df1['Тип дома']\n",
    "apps_not_null = apps[apps.notnull()]\n",
    "reshaped_vals = apps_not_null.values.reshape(-1, 1)\n",
    "# Encode the non-null values of ambience\n",
    "encoded_vals = apps_ord_enc.fit_transform(reshaped_vals)\n",
    "# Replace the ambience column with ordinal values\n",
    "df1.loc[apps.notnull(), 'Тип дома'] = np.squeeze(encoded_vals)\n",
    "\n",
    "df1.head()"
   ]
  },
  {
   "cell_type": "markdown",
   "metadata": {},
   "source": [
    "### 2.3. Data transformation: standardization"
   ]
  },
  {
   "cell_type": "code",
   "execution_count": 8,
   "metadata": {},
   "outputs": [
    {
     "data": {
      "text/html": [
       "<div>\n",
       "<style scoped>\n",
       "    .dataframe tbody tr th:only-of-type {\n",
       "        vertical-align: middle;\n",
       "    }\n",
       "\n",
       "    .dataframe tbody tr th {\n",
       "        vertical-align: top;\n",
       "    }\n",
       "\n",
       "    .dataframe thead th {\n",
       "        text-align: right;\n",
       "    }\n",
       "</style>\n",
       "<table border=\"1\" class=\"dataframe\">\n",
       "  <thead>\n",
       "    <tr style=\"text-align: right;\">\n",
       "      <th></th>\n",
       "      <th>Цена</th>\n",
       "      <th>Тип дома</th>\n",
       "      <th>Год постройки</th>\n",
       "      <th>Количество комнат</th>\n",
       "      <th>Площадь</th>\n",
       "    </tr>\n",
       "  </thead>\n",
       "  <tbody>\n",
       "    <tr>\n",
       "      <th>count</th>\n",
       "      <td>1.090000e+02</td>\n",
       "      <td>109.000000</td>\n",
       "      <td>109.000000</td>\n",
       "      <td>109.000000</td>\n",
       "      <td>109.000000</td>\n",
       "    </tr>\n",
       "    <tr>\n",
       "      <th>mean</th>\n",
       "      <td>2.521226e+07</td>\n",
       "      <td>1.761468</td>\n",
       "      <td>2003.669725</td>\n",
       "      <td>2.752294</td>\n",
       "      <td>86.302752</td>\n",
       "    </tr>\n",
       "    <tr>\n",
       "      <th>std</th>\n",
       "      <td>1.396121e+07</td>\n",
       "      <td>0.848736</td>\n",
       "      <td>16.086027</td>\n",
       "      <td>0.914451</td>\n",
       "      <td>43.237395</td>\n",
       "    </tr>\n",
       "    <tr>\n",
       "      <th>min</th>\n",
       "      <td>8.000000e+06</td>\n",
       "      <td>0.000000</td>\n",
       "      <td>1966.000000</td>\n",
       "      <td>1.000000</td>\n",
       "      <td>40.000000</td>\n",
       "    </tr>\n",
       "    <tr>\n",
       "      <th>25%</th>\n",
       "      <td>1.400000e+07</td>\n",
       "      <td>1.000000</td>\n",
       "      <td>1989.000000</td>\n",
       "      <td>2.000000</td>\n",
       "      <td>59.000000</td>\n",
       "    </tr>\n",
       "    <tr>\n",
       "      <th>50%</th>\n",
       "      <td>2.300000e+07</td>\n",
       "      <td>2.000000</td>\n",
       "      <td>2006.000000</td>\n",
       "      <td>3.000000</td>\n",
       "      <td>79.000000</td>\n",
       "    </tr>\n",
       "    <tr>\n",
       "      <th>75%</th>\n",
       "      <td>3.000000e+07</td>\n",
       "      <td>2.000000</td>\n",
       "      <td>2019.000000</td>\n",
       "      <td>3.000000</td>\n",
       "      <td>100.000000</td>\n",
       "    </tr>\n",
       "    <tr>\n",
       "      <th>max</th>\n",
       "      <td>7.500000e+07</td>\n",
       "      <td>3.000000</td>\n",
       "      <td>2021.000000</td>\n",
       "      <td>5.000000</td>\n",
       "      <td>330.000000</td>\n",
       "    </tr>\n",
       "  </tbody>\n",
       "</table>\n",
       "</div>"
      ],
      "text/plain": [
       "               Цена    Тип дома  Год постройки  Количество комнат     Площадь\n",
       "count  1.090000e+02  109.000000     109.000000         109.000000  109.000000\n",
       "mean   2.521226e+07    1.761468    2003.669725           2.752294   86.302752\n",
       "std    1.396121e+07    0.848736      16.086027           0.914451   43.237395\n",
       "min    8.000000e+06    0.000000    1966.000000           1.000000   40.000000\n",
       "25%    1.400000e+07    1.000000    1989.000000           2.000000   59.000000\n",
       "50%    2.300000e+07    2.000000    2006.000000           3.000000   79.000000\n",
       "75%    3.000000e+07    2.000000    2019.000000           3.000000  100.000000\n",
       "max    7.500000e+07    3.000000    2021.000000           5.000000  330.000000"
      ]
     },
     "execution_count": 8,
     "metadata": {},
     "output_type": "execute_result"
    }
   ],
   "source": [
    "# descriptive statistics\n",
    "df1.describe()"
   ]
  },
  {
   "cell_type": "markdown",
   "metadata": {},
   "source": [
    "Since the \"Год постройки\",\"Количество комнат\", \"Площадь\" columns in the dataset are all on different scales, I am going to standardize them in a way that allows for use in a linear model."
   ]
  },
  {
   "cell_type": "code",
   "execution_count": 9,
   "metadata": {
    "scrolled": true
   },
   "outputs": [
    {
     "data": {
      "text/html": [
       "<div>\n",
       "<style scoped>\n",
       "    .dataframe tbody tr th:only-of-type {\n",
       "        vertical-align: middle;\n",
       "    }\n",
       "\n",
       "    .dataframe tbody tr th {\n",
       "        vertical-align: top;\n",
       "    }\n",
       "\n",
       "    .dataframe thead th {\n",
       "        text-align: right;\n",
       "    }\n",
       "</style>\n",
       "<table border=\"1\" class=\"dataframe\">\n",
       "  <thead>\n",
       "    <tr style=\"text-align: right;\">\n",
       "      <th></th>\n",
       "      <th>Цена</th>\n",
       "      <th>Тип дома</th>\n",
       "      <th>Год постройки</th>\n",
       "      <th>Количество комнат</th>\n",
       "      <th>Площадь</th>\n",
       "    </tr>\n",
       "  </thead>\n",
       "  <tbody>\n",
       "    <tr>\n",
       "      <th>0</th>\n",
       "      <td>15646500</td>\n",
       "      <td>0.282342</td>\n",
       "      <td>1.082326</td>\n",
       "      <td>-1.925075</td>\n",
       "      <td>-1.006138</td>\n",
       "    </tr>\n",
       "    <tr>\n",
       "      <th>1</th>\n",
       "      <td>49984000</td>\n",
       "      <td>0.282342</td>\n",
       "      <td>1.019873</td>\n",
       "      <td>1.370734</td>\n",
       "      <td>1.619412</td>\n",
       "    </tr>\n",
       "    <tr>\n",
       "      <th>2</th>\n",
       "      <td>15932000</td>\n",
       "      <td>0.282342</td>\n",
       "      <td>1.019873</td>\n",
       "      <td>-1.925075</td>\n",
       "      <td>-0.704083</td>\n",
       "    </tr>\n",
       "    <tr>\n",
       "      <th>3</th>\n",
       "      <td>38000000</td>\n",
       "      <td>0.282342</td>\n",
       "      <td>0.145532</td>\n",
       "      <td>0.272131</td>\n",
       "      <td>0.620309</td>\n",
       "    </tr>\n",
       "    <tr>\n",
       "      <th>5</th>\n",
       "      <td>8000000</td>\n",
       "      <td>-0.901322</td>\n",
       "      <td>1.082326</td>\n",
       "      <td>-1.925075</td>\n",
       "      <td>-0.773788</td>\n",
       "    </tr>\n",
       "  </tbody>\n",
       "</table>\n",
       "</div>"
      ],
      "text/plain": [
       "       Цена  Тип дома  Год постройки  Количество комнат   Площадь\n",
       "0  15646500  0.282342       1.082326          -1.925075 -1.006138\n",
       "1  49984000  0.282342       1.019873           1.370734  1.619412\n",
       "2  15932000  0.282342       1.019873          -1.925075 -0.704083\n",
       "3  38000000  0.282342       0.145532           0.272131  0.620309\n",
       "5   8000000 -0.901322       1.082326          -1.925075 -0.773788"
      ]
     },
     "execution_count": 9,
     "metadata": {},
     "output_type": "execute_result"
    }
   ],
   "source": [
    "# standardization\n",
    "df1[[\"Год постройки\",\"Количество комнат\", \"Площадь\",\"Тип дома\"]] = StandardScaler().fit_transform(df1[[\"Год постройки\",\"Количество комнат\",\"Площадь\",\"Тип дома\"]])\n",
    "df_f[[\"Год постройки\",\"Количество комнат\",\"Площадь\",\"Тип дома\"]] = StandardScaler().fit_transform(df_f[[\"Год постройки\",\"Количество комнат\",\"Площадь\",\"Тип дома\"]])\n",
    "\n",
    "df1.head()"
   ]
  },
  {
   "cell_type": "markdown",
   "metadata": {},
   "source": [
    "## 3. Data Modelling\n",
    "I am going to compare resullts of the linear regression model for predicting the price of appartments for sale."
   ]
  },
  {
   "cell_type": "markdown",
   "metadata": {},
   "source": [
    "### 3.1. Linear Regression Model"
   ]
  },
  {
   "cell_type": "code",
   "execution_count": 8,
   "metadata": {},
   "outputs": [],
   "source": [
    "df_f = df1.copy()\n",
    "\n",
    "X = df_f[[\"Год постройки\",\"Количество комнат\",\"Площадь\", \"Тип дома\"]]\n",
    "y = df_f['Цена'] "
   ]
  },
  {
   "cell_type": "markdown",
   "metadata": {},
   "source": [
    "Below I applied principal component analysis (PCA) for feature extraction"
   ]
  },
  {
   "cell_type": "code",
   "execution_count": 10,
   "metadata": {},
   "outputs": [],
   "source": [
    "from sklearn.decomposition import PCA\n",
    "\n",
    "# calculating the principal components\n",
    "pca = PCA(n_components=3)\n",
    "X_pca = pca.fit_transform(X)"
   ]
  },
  {
   "cell_type": "code",
   "execution_count": 11,
   "metadata": {},
   "outputs": [],
   "source": [
    "# Split the data into training/testing sets\n",
    "X_train, X_test, y_train, y_test = train_test_split(X_pca, y, test_size=0.3, random_state = 0)"
   ]
  },
  {
   "cell_type": "code",
   "execution_count": 12,
   "metadata": {},
   "outputs": [
    {
     "name": "stdout",
     "output_type": "stream",
     "text": [
      "25591680.634215143\n",
      "[ 9011170.41625777   283347.52835997 -2404470.78414975]\n"
     ]
    }
   ],
   "source": [
    "# Create linear regression object\n",
    "regr = linear_model.LinearRegression()\n",
    "\n",
    "# Train the model using the training sets\n",
    "regr.fit(X_train, y_train)\n",
    "\n",
    "# Make predictions using the testing set\n",
    "y_pred = regr.predict(X_test)\n",
    "\n",
    "print(regr.intercept_)\n",
    "\n",
    "# The coefficients\n",
    "print(regr.coef_)"
   ]
  },
  {
   "cell_type": "code",
   "execution_count": 13,
   "metadata": {},
   "outputs": [
    {
     "name": "stdout",
     "output_type": "stream",
     "text": [
      "Root Mean Squared Error: 6662634.0\n",
      "R2: 0.716\n"
     ]
    }
   ],
   "source": [
    "# Evaluation the model against test data using RMSE and R2\n",
    "print('Root Mean Squared Error:', round(np.sqrt(metrics.mean_squared_error(y_test, y_pred))))\n",
    "print('R2:', round(metrics.r2_score(y_test, y_pred), 3))\n"
   ]
  },
  {
   "cell_type": "code",
   "execution_count": 14,
   "metadata": {},
   "outputs": [
    {
     "data": {
      "text/html": [
       "<div>\n",
       "<style scoped>\n",
       "    .dataframe tbody tr th:only-of-type {\n",
       "        vertical-align: middle;\n",
       "    }\n",
       "\n",
       "    .dataframe tbody tr th {\n",
       "        vertical-align: top;\n",
       "    }\n",
       "\n",
       "    .dataframe thead th {\n",
       "        text-align: right;\n",
       "    }\n",
       "</style>\n",
       "<table border=\"1\" class=\"dataframe\">\n",
       "  <thead>\n",
       "    <tr style=\"text-align: right;\">\n",
       "      <th></th>\n",
       "      <th>Actual</th>\n",
       "      <th>Predicted</th>\n",
       "    </tr>\n",
       "  </thead>\n",
       "  <tbody>\n",
       "    <tr>\n",
       "      <th>91</th>\n",
       "      <td>32000000</td>\n",
       "      <td>2.542139e+07</td>\n",
       "    </tr>\n",
       "    <tr>\n",
       "      <th>11</th>\n",
       "      <td>18000000</td>\n",
       "      <td>3.411330e+07</td>\n",
       "    </tr>\n",
       "    <tr>\n",
       "      <th>82</th>\n",
       "      <td>23500000</td>\n",
       "      <td>3.171130e+07</td>\n",
       "    </tr>\n",
       "    <tr>\n",
       "      <th>2</th>\n",
       "      <td>15932000</td>\n",
       "      <td>1.638318e+07</td>\n",
       "    </tr>\n",
       "    <tr>\n",
       "      <th>25</th>\n",
       "      <td>10608000</td>\n",
       "      <td>2.467405e+07</td>\n",
       "    </tr>\n",
       "    <tr>\n",
       "      <th>110</th>\n",
       "      <td>20000000</td>\n",
       "      <td>1.857125e+07</td>\n",
       "    </tr>\n",
       "    <tr>\n",
       "      <th>119</th>\n",
       "      <td>30000000</td>\n",
       "      <td>3.468415e+07</td>\n",
       "    </tr>\n",
       "    <tr>\n",
       "      <th>8</th>\n",
       "      <td>23828000</td>\n",
       "      <td>3.411330e+07</td>\n",
       "    </tr>\n",
       "    <tr>\n",
       "      <th>17</th>\n",
       "      <td>22500000</td>\n",
       "      <td>2.001507e+07</td>\n",
       "    </tr>\n",
       "    <tr>\n",
       "      <th>93</th>\n",
       "      <td>14000000</td>\n",
       "      <td>1.412574e+07</td>\n",
       "    </tr>\n",
       "    <tr>\n",
       "      <th>75</th>\n",
       "      <td>15500000</td>\n",
       "      <td>1.456686e+07</td>\n",
       "    </tr>\n",
       "    <tr>\n",
       "      <th>23</th>\n",
       "      <td>24000000</td>\n",
       "      <td>2.224984e+07</td>\n",
       "    </tr>\n",
       "    <tr>\n",
       "      <th>47</th>\n",
       "      <td>16000000</td>\n",
       "      <td>1.621220e+07</td>\n",
       "    </tr>\n",
       "    <tr>\n",
       "      <th>66</th>\n",
       "      <td>11500000</td>\n",
       "      <td>8.709458e+06</td>\n",
       "    </tr>\n",
       "    <tr>\n",
       "      <th>83</th>\n",
       "      <td>27500000</td>\n",
       "      <td>2.527103e+07</td>\n",
       "    </tr>\n",
       "    <tr>\n",
       "      <th>56</th>\n",
       "      <td>30000000</td>\n",
       "      <td>4.305095e+07</td>\n",
       "    </tr>\n",
       "    <tr>\n",
       "      <th>14</th>\n",
       "      <td>12000000</td>\n",
       "      <td>7.696787e+06</td>\n",
       "    </tr>\n",
       "    <tr>\n",
       "      <th>80</th>\n",
       "      <td>65000000</td>\n",
       "      <td>7.687653e+07</td>\n",
       "    </tr>\n",
       "    <tr>\n",
       "      <th>92</th>\n",
       "      <td>29000000</td>\n",
       "      <td>2.497032e+07</td>\n",
       "    </tr>\n",
       "    <tr>\n",
       "      <th>60</th>\n",
       "      <td>23000000</td>\n",
       "      <td>2.936531e+07</td>\n",
       "    </tr>\n",
       "    <tr>\n",
       "      <th>115</th>\n",
       "      <td>28888888</td>\n",
       "      <td>2.125469e+07</td>\n",
       "    </tr>\n",
       "    <tr>\n",
       "      <th>9</th>\n",
       "      <td>20425000</td>\n",
       "      <td>2.561916e+07</td>\n",
       "    </tr>\n",
       "    <tr>\n",
       "      <th>27</th>\n",
       "      <td>17900000</td>\n",
       "      <td>2.063643e+07</td>\n",
       "    </tr>\n",
       "    <tr>\n",
       "      <th>102</th>\n",
       "      <td>35000000</td>\n",
       "      <td>2.821535e+07</td>\n",
       "    </tr>\n",
       "    <tr>\n",
       "      <th>34</th>\n",
       "      <td>25500000</td>\n",
       "      <td>2.750650e+07</td>\n",
       "    </tr>\n",
       "    <tr>\n",
       "      <th>3</th>\n",
       "      <td>38000000</td>\n",
       "      <td>3.125552e+07</td>\n",
       "    </tr>\n",
       "    <tr>\n",
       "      <th>73</th>\n",
       "      <td>10000000</td>\n",
       "      <td>1.180103e+07</td>\n",
       "    </tr>\n",
       "    <tr>\n",
       "      <th>51</th>\n",
       "      <td>13000000</td>\n",
       "      <td>1.840407e+07</td>\n",
       "    </tr>\n",
       "    <tr>\n",
       "      <th>31</th>\n",
       "      <td>55776000</td>\n",
       "      <td>4.968428e+07</td>\n",
       "    </tr>\n",
       "    <tr>\n",
       "      <th>7</th>\n",
       "      <td>11400000</td>\n",
       "      <td>1.682430e+07</td>\n",
       "    </tr>\n",
       "    <tr>\n",
       "      <th>85</th>\n",
       "      <td>13000000</td>\n",
       "      <td>1.181099e+07</td>\n",
       "    </tr>\n",
       "    <tr>\n",
       "      <th>96</th>\n",
       "      <td>42000000</td>\n",
       "      <td>3.651810e+07</td>\n",
       "    </tr>\n",
       "    <tr>\n",
       "      <th>98</th>\n",
       "      <td>12300000</td>\n",
       "      <td>6.102600e+06</td>\n",
       "    </tr>\n",
       "  </tbody>\n",
       "</table>\n",
       "</div>"
      ],
      "text/plain": [
       "       Actual     Predicted\n",
       "91   32000000  2.542139e+07\n",
       "11   18000000  3.411330e+07\n",
       "82   23500000  3.171130e+07\n",
       "2    15932000  1.638318e+07\n",
       "25   10608000  2.467405e+07\n",
       "110  20000000  1.857125e+07\n",
       "119  30000000  3.468415e+07\n",
       "8    23828000  3.411330e+07\n",
       "17   22500000  2.001507e+07\n",
       "93   14000000  1.412574e+07\n",
       "75   15500000  1.456686e+07\n",
       "23   24000000  2.224984e+07\n",
       "47   16000000  1.621220e+07\n",
       "66   11500000  8.709458e+06\n",
       "83   27500000  2.527103e+07\n",
       "56   30000000  4.305095e+07\n",
       "14   12000000  7.696787e+06\n",
       "80   65000000  7.687653e+07\n",
       "92   29000000  2.497032e+07\n",
       "60   23000000  2.936531e+07\n",
       "115  28888888  2.125469e+07\n",
       "9    20425000  2.561916e+07\n",
       "27   17900000  2.063643e+07\n",
       "102  35000000  2.821535e+07\n",
       "34   25500000  2.750650e+07\n",
       "3    38000000  3.125552e+07\n",
       "73   10000000  1.180103e+07\n",
       "51   13000000  1.840407e+07\n",
       "31   55776000  4.968428e+07\n",
       "7    11400000  1.682430e+07\n",
       "85   13000000  1.181099e+07\n",
       "96   42000000  3.651810e+07\n",
       "98   12300000  6.102600e+06"
      ]
     },
     "execution_count": 14,
     "metadata": {},
     "output_type": "execute_result"
    }
   ],
   "source": [
    "df_s = pd.DataFrame({'Actual': y_test, 'Predicted': y_pred})\n",
    "df_s"
   ]
  },
  {
   "cell_type": "markdown",
   "metadata": {},
   "source": [
    "## 4. Conclusion"
   ]
  },
  {
   "cell_type": "markdown",
   "metadata": {},
   "source": [
    "Overall, I can make a conclusion that I build a model with an accuracy of 72% straight."
   ]
  }
 ],
 "metadata": {
  "kernelspec": {
   "display_name": "Python 3",
   "language": "python",
   "name": "python3"
  },
  "language_info": {
   "codemirror_mode": {
    "name": "ipython",
    "version": 3
   },
   "file_extension": ".py",
   "mimetype": "text/x-python",
   "name": "python",
   "nbconvert_exporter": "python",
   "pygments_lexer": "ipython3",
   "version": "3.7.9"
  }
 },
 "nbformat": 4,
 "nbformat_minor": 4
}
